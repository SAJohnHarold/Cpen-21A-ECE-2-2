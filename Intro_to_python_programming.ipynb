{
  "nbformat": 4,
  "nbformat_minor": 0,
  "metadata": {
    "colab": {
      "name": "Intro to python programming",
      "provenance": [],
      "authorship_tag": "ABX9TyOKPMVjvXRWsoYDKfoiwaNh",
      "include_colab_link": true
    },
    "kernelspec": {
      "name": "python3",
      "display_name": "Python 3"
    },
    "language_info": {
      "name": "python"
    }
  },
  "cells": [
    {
      "cell_type": "markdown",
      "metadata": {
        "id": "view-in-github",
        "colab_type": "text"
      },
      "source": [
        "<a href=\"https://colab.research.google.com/github/SAJohnHarold/Cpen-21A-ECE-2-2/blob/main/Intro_to_python_programming.ipynb\" target=\"_parent\"><img src=\"https://colab.research.google.com/assets/colab-badge.svg\" alt=\"Open In Colab\"/></a>"
      ]
    },
    {
      "cell_type": "markdown",
      "metadata": {
        "id": "sJlt8b3siVSh"
      },
      "source": [
        "##Review of Python\n"
      ]
    },
    {
      "cell_type": "markdown",
      "metadata": {
        "id": "g3BaSY_1iu1h"
      },
      "source": [
        ""
      ]
    },
    {
      "cell_type": "code",
      "metadata": {
        "colab": {
          "base_uri": "https://localhost:8080/"
        },
        "id": "-hbccEsPknfi",
        "outputId": "2c052309-1423-4283-ca36-8dd9c8efb6cf"
      },
      "source": [
        "b = int(4)\n",
        "print(b)"
      ],
      "execution_count": 13,
      "outputs": [
        {
          "output_type": "stream",
          "name": "stdout",
          "text": [
            "4\n"
          ]
        }
      ]
    },
    {
      "cell_type": "code",
      "metadata": {
        "colab": {
          "base_uri": "https://localhost:8080/"
        },
        "id": "0MPDjKcDpTau",
        "outputId": "116e52dd-44a8-4b43-8736-9b89914a147b"
      },
      "source": [
        "a, b, c = 0, -1, 8\n",
        "c%=3\n",
        "print(c)"
      ],
      "execution_count": 17,
      "outputs": [
        {
          "output_type": "stream",
          "name": "stdout",
          "text": [
            "2\n"
          ]
        }
      ]
    },
    {
      "cell_type": "code",
      "metadata": {
        "colab": {
          "base_uri": "https://localhost:8080/"
        },
        "id": "xZl1ad1nmUQ4",
        "outputId": "8334aaa0-8623-4c9b-ca6d-6222cbe957f1"
      },
      "source": [
        "b = 4\n",
        "print(b)"
      ],
      "execution_count": 14,
      "outputs": [
        {
          "output_type": "stream",
          "name": "stdout",
          "text": [
            "4\n"
          ]
        }
      ]
    },
    {
      "cell_type": "code",
      "metadata": {
        "colab": {
          "base_uri": "https://localhost:8080/"
        },
        "id": "quuczZSUiwk6",
        "outputId": "a6963e99-0ff1-4c49-ede2-5d346f30c840"
      },
      "source": [
        "print(\"Pototoy\")"
      ],
      "execution_count": 2,
      "outputs": [
        {
          "output_type": "stream",
          "name": "stdout",
          "text": [
            "Pototoy\n"
          ]
        }
      ]
    }
  ]
}