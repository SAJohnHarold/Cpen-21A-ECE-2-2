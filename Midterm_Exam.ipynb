{
  "nbformat": 4,
  "nbformat_minor": 0,
  "metadata": {
    "colab": {
      "name": "Midterm Exam.ipynb",
      "provenance": [],
      "authorship_tag": "ABX9TyMeY/+GCyLEPHYFSCDI10qh",
      "include_colab_link": true
    },
    "kernelspec": {
      "name": "python3",
      "display_name": "Python 3"
    },
    "language_info": {
      "name": "python"
    }
  },
  "cells": [
    {
      "cell_type": "markdown",
      "metadata": {
        "id": "view-in-github",
        "colab_type": "text"
      },
      "source": [
        "<a href=\"https://colab.research.google.com/github/SAJohnHarold/Cpen-21A-ECE-2-2/blob/main/Midterm_Exam.ipynb\" target=\"_parent\"><img src=\"https://colab.research.google.com/assets/colab-badge.svg\" alt=\"Open In Colab\"/></a>"
      ]
    },
    {
      "cell_type": "markdown",
      "metadata": {
        "id": "OYPn2j1DrrhS"
      },
      "source": [
        "#Midterm Exam"
      ]
    },
    {
      "cell_type": "markdown",
      "metadata": {
        "id": "W642hcs5r1Oa"
      },
      "source": [
        "##PROBLEM STATEMENT 1."
      ]
    },
    {
      "cell_type": "code",
      "metadata": {
        "colab": {
          "base_uri": "https://localhost:8080/"
        },
        "id": "Xnvq8st-rf7B",
        "outputId": "f8516615-68e7-4639-9ef9-9b9a11e35041"
      },
      "source": [
        "a = \"John Harold P. San Antonio\"\n",
        "b = 202012958\n",
        "c = 20\n",
        "d = \"September 14, 2001\"\n",
        "e = \"Brgy. Bernardo Pulido, GMA, Cavite\"\n",
        "f = \"Bachelor of Science in Electronics and Communication Engineer\"\n",
        "g =  1.5\n",
        "\n",
        "print(a)\n",
        "print(b)\n",
        "print(c)\n",
        "print(d)\n",
        "print(e)\n",
        "print(f)\n",
        "print(g)"
      ],
      "execution_count": 5,
      "outputs": [
        {
          "output_type": "stream",
          "name": "stdout",
          "text": [
            "John Harold P. San Antonio\n",
            "202012958\n",
            "20\n",
            "September 14, 2021\n",
            "Brgy. Bernardo Pulido, GMA, Cavite\n",
            "Bachelor of Science in Electronics and Communication Engineer\n",
            "1.5\n"
          ]
        }
      ]
    },
    {
      "cell_type": "markdown",
      "metadata": {
        "id": "qw4-Ay8lt-Oq"
      },
      "source": [
        "##PROBLEM STATEMENT 2."
      ]
    },
    {
      "cell_type": "code",
      "metadata": {
        "colab": {
          "base_uri": "https://localhost:8080/"
        },
        "id": "674NcjipuDF6",
        "outputId": "505d26f8-4773-45d0-f283-9e8fc2dea7e9"
      },
      "source": [
        "n = 4\n",
        "answ=\"Y\"\n",
        "\n",
        "print(2<n) and (n>6)\n",
        "print(2<n) or (n==6)\n",
        "print(not(2<n or n==6))\n",
        "print(not(n<6))\n",
        "print(answ==\"Y\" or answ==\"y\")\n",
        "print(answ==\"Y\") and (answ==\"y\")\n",
        "print(not(answ==\"y\"))\n",
        "print((2<n)and(n==5+1)) or (answ==\"No\")\n",
        "print((n==2)and(n==7)) or (answ==\"Y\")\n",
        "print(n==2) and ((n==7) or(answ==\"Y\"))"
      ],
      "execution_count": 48,
      "outputs": [
        {
          "output_type": "stream",
          "name": "stdout",
          "text": [
            "True\n",
            "True\n",
            "False\n",
            "False\n",
            "True\n",
            "True\n",
            "True\n",
            "False\n",
            "False\n",
            "False\n"
          ]
        }
      ]
    },
    {
      "cell_type": "markdown",
      "metadata": {
        "id": "PvbD0jw30xJ6"
      },
      "source": [
        "##PROBLEM STATEMENT 3."
      ]
    },
    {
      "cell_type": "code",
      "metadata": {
        "colab": {
          "base_uri": "https://localhost:8080/"
        },
        "id": "HKRCvfhk1gLx",
        "outputId": "464ec3d2-13b8-4a26-e115-443306edd4f8"
      },
      "source": [
        "x = 2\n",
        "y = -3\n",
        "w = 7\n",
        "z = -10\n",
        "\n",
        "print(x/y)\n",
        "print(w/y/x)\n",
        "print(z/y%x)\n",
        "print(x%-y*w)\n",
        "print(x%y)\n",
        "print(z%w-y/x*5+5)\n",
        "print(9-x%(2+y))\n",
        "print(z//w)\n",
        "print((2+y)**2)\n",
        "print(w/x*2)"
      ],
      "execution_count": 50,
      "outputs": [
        {
          "output_type": "stream",
          "name": "stdout",
          "text": [
            "-0.6666666666666666\n",
            "-1.1666666666666667\n",
            "1.3333333333333335\n",
            "14\n",
            "-1\n",
            "16.5\n",
            "9\n",
            "-2\n",
            "1\n",
            "7.0\n"
          ]
        }
      ]
    }
  ]
}