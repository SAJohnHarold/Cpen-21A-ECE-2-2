{
  "nbformat": 4,
  "nbformat_minor": 0,
  "metadata": {
    "colab": {
      "name": "Introduction to python programming",
      "provenance": [],
      "authorship_tag": "ABX9TyPV1fB4bmu4/ojts02qWY0O",
      "include_colab_link": true
    },
    "kernelspec": {
      "name": "python3",
      "display_name": "Python 3"
    },
    "language_info": {
      "name": "python"
    }
  },
  "cells": [
    {
      "cell_type": "markdown",
      "metadata": {
        "id": "view-in-github",
        "colab_type": "text"
      },
      "source": [
        "<a href=\"https://colab.research.google.com/github/SAJohnHarold/Cpen-21A-ECE-2-2/blob/main/Introduction_to_python_programming.ipynb\" target=\"_parent\"><img src=\"https://colab.research.google.com/assets/colab-badge.svg\" alt=\"Open In Colab\"/></a>"
      ]
    },
    {
      "cell_type": "markdown",
      "metadata": {
        "id": "sJlt8b3siVSh"
      },
      "source": [
        "##Review of Python\n"
      ]
    },
    {
      "cell_type": "markdown",
      "metadata": {
        "id": "iakYi1yttbqk"
      },
      "source": [
        ""
      ]
    },
    {
      "cell_type": "code",
      "metadata": {
        "colab": {
          "base_uri": "https://localhost:8080/"
        },
        "id": "YQor9voBtbOs",
        "outputId": "1eee5585-210f-41ab-a285-6ec5f6be0ab5"
      },
      "source": [
        "print(\"Hello, World\")"
      ],
      "execution_count": 18,
      "outputs": [
        {
          "output_type": "stream",
          "name": "stdout",
          "text": [
            "Hello, World\n"
          ]
        }
      ]
    },
    {
      "cell_type": "markdown",
      "metadata": {
        "id": "g3BaSY_1iu1h"
      },
      "source": [
        ""
      ]
    },
    {
      "cell_type": "code",
      "metadata": {
        "colab": {
          "base_uri": "https://localhost:8080/"
        },
        "id": "-hbccEsPknfi",
        "outputId": "2c052309-1423-4283-ca36-8dd9c8efb6cf"
      },
      "source": [
        "b = int(4)\n",
        "print(b)"
      ],
      "execution_count": 13,
      "outputs": [
        {
          "output_type": "stream",
          "name": "stdout",
          "text": [
            "4\n"
          ]
        }
      ]
    },
    {
      "cell_type": "code",
      "metadata": {
        "colab": {
          "base_uri": "https://localhost:8080/"
        },
        "id": "0MPDjKcDpTau",
        "outputId": "116e52dd-44a8-4b43-8736-9b89914a147b"
      },
      "source": [
        "a, b, c = 0, -1, 8\n",
        "c%=3\n",
        "print(c)"
      ],
      "execution_count": 17,
      "outputs": [
        {
          "output_type": "stream",
          "name": "stdout",
          "text": [
            "2\n"
          ]
        }
      ]
    },
    {
      "cell_type": "code",
      "metadata": {
        "colab": {
          "base_uri": "https://localhost:8080/"
        },
        "id": "xZl1ad1nmUQ4",
        "outputId": "8334aaa0-8623-4c9b-ca6d-6222cbe957f1"
      },
      "source": [
        "b = 4\n",
        "print(b)"
      ],
      "execution_count": 14,
      "outputs": [
        {
          "output_type": "stream",
          "name": "stdout",
          "text": [
            "4\n"
          ]
        }
      ]
    },
    {
      "cell_type": "code",
      "metadata": {
        "colab": {
          "base_uri": "https://localhost:8080/"
        },
        "id": "quuczZSUiwk6",
        "outputId": "66166726-5d1e-4ace-aa19-e3118f4c1f7d"
      },
      "source": [
        "print(\"EKis\")"
      ],
      "execution_count": 19,
      "outputs": [
        {
          "output_type": "stream",
          "name": "stdout",
          "text": [
            "EKis\n"
          ]
        }
      ]
    },
    {
      "cell_type": "code",
      "metadata": {
        "colab": {
          "base_uri": "https://localhost:8080/"
        },
        "id": "YA6zPbuVuDil",
        "outputId": "b3f729a9-5d4c-4822-9c4f-8c7b23a2144d"
      },
      "source": [
        "X = 3\n",
        "Y = 4\n",
        "print(X + Y)"
      ],
      "execution_count": 21,
      "outputs": [
        {
          "output_type": "stream",
          "name": "stdout",
          "text": [
            "7\n"
          ]
        }
      ]
    },
    {
      "cell_type": "code",
      "metadata": {
        "colab": {
          "base_uri": "https://localhost:8080/"
        },
        "id": "XZJmHCivuleE",
        "outputId": "2009cc36-7d6a-4e45-bbe3-b6b964337713"
      },
      "source": [
        "x = y = z = \"FOUR\"\n",
        "print(x)\n",
        "print(y)\n",
        "print(z)"
      ],
      "execution_count": 24,
      "outputs": [
        {
          "output_type": "stream",
          "name": "stdout",
          "text": [
            "FOUR\n",
            "FOUR\n",
            "FOUR\n"
          ]
        }
      ]
    }
  ]
}