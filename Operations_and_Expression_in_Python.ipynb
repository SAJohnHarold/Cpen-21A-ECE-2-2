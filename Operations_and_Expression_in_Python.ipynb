{
  "nbformat": 4,
  "nbformat_minor": 0,
  "metadata": {
    "colab": {
      "name": "Operations and Expression in Python",
      "provenance": [],
      "authorship_tag": "ABX9TyOmImblMd8LssVQSV8MeQ8c",
      "include_colab_link": true
    },
    "kernelspec": {
      "name": "python3",
      "display_name": "Python 3"
    },
    "language_info": {
      "name": "python"
    }
  },
  "cells": [
    {
      "cell_type": "markdown",
      "metadata": {
        "id": "view-in-github",
        "colab_type": "text"
      },
      "source": [
        "<a href=\"https://colab.research.google.com/github/SAJohnHarold/Cpen-21A-ECE-2-2/blob/main/Operations_and_Expression_in_Python.ipynb\" target=\"_parent\"><img src=\"https://colab.research.google.com/assets/colab-badge.svg\" alt=\"Open In Colab\"/></a>"
      ]
    },
    {
      "cell_type": "markdown",
      "metadata": {
        "id": "rXQmEiLosiLk"
      },
      "source": [
        "##Boolean Operators"
      ]
    },
    {
      "cell_type": "code",
      "metadata": {
        "colab": {
          "base_uri": "https://localhost:8080/"
        },
        "id": "MXlD8myrsJ3b",
        "outputId": "73b291e7-c32b-4f9c-a5b3-89276843d923"
      },
      "source": [
        "print(10>9)\n",
        "print(10==9)\n",
        "a=10\n",
        "b=9\n",
        "print(a>b)"
      ],
      "execution_count": 3,
      "outputs": [
        {
          "output_type": "stream",
          "name": "stdout",
          "text": [
            "True\n",
            "False\n",
            "True\n"
          ]
        }
      ]
    },
    {
      "cell_type": "code",
      "metadata": {
        "colab": {
          "base_uri": "https://localhost:8080/"
        },
        "id": "Alget3TUtE1d",
        "outputId": "a0b90077-cd8e-4ba1-8318-cf1d5b838a9a"
      },
      "source": [
        "print(bool(\"Hello\"))\n",
        "print(bool(3))\n",
        "print(bool(False))\n",
        "print(bool(0))\n",
        "print(bool(None))\n",
        "print(bool([]))\n",
        "print(bool(1))"
      ],
      "execution_count": 12,
      "outputs": [
        {
          "output_type": "stream",
          "name": "stdout",
          "text": [
            "True\n",
            "True\n",
            "False\n",
            "False\n",
            "False\n",
            "False\n",
            "True\n"
          ]
        }
      ]
    },
    {
      "cell_type": "code",
      "metadata": {
        "colab": {
          "base_uri": "https://localhost:8080/"
        },
        "id": "CYrRldVsu5hh",
        "outputId": "b291242f-d3cd-4145-dac7-98660f366ec8"
      },
      "source": [
        "def myFunction():return True\n",
        "print(myFunction())"
      ],
      "execution_count": 16,
      "outputs": [
        {
          "output_type": "stream",
          "name": "stdout",
          "text": [
            "True\n"
          ]
        }
      ]
    },
    {
      "cell_type": "code",
      "metadata": {
        "colab": {
          "base_uri": "https://localhost:8080/"
        },
        "id": "Oz3H8x1AvY4A",
        "outputId": "f00fadb4-819b-48b2-ff5e-556a5e0ab71c"
      },
      "source": [
        "def myFunction():return True\n",
        "if myFunction():\n",
        " print(\"True\")\n",
        "else:\n",
        " print(\"False\")"
      ],
      "execution_count": 21,
      "outputs": [
        {
          "output_type": "stream",
          "name": "stdout",
          "text": [
            "True\n"
          ]
        }
      ]
    },
    {
      "cell_type": "code",
      "metadata": {
        "colab": {
          "base_uri": "https://localhost:8080/"
        },
        "id": "MuFpDrm5wBtg",
        "outputId": "a1d76a2f-0e2f-4cf5-981b-46dac1594fae"
      },
      "source": [
        "print(10>9)\n",
        "a=6 # 0000 0110\n",
        "b=7 # 0000 0111\n",
        "print(a==b)\n",
        "print(a!=a)\n",
        "print(6==6)\n"
      ],
      "execution_count": 31,
      "outputs": [
        {
          "output_type": "stream",
          "name": "stdout",
          "text": [
            "True\n",
            "False\n",
            "False\n",
            "True\n"
          ]
        }
      ]
    },
    {
      "cell_type": "markdown",
      "metadata": {
        "id": "AkkDl1RCw6bo"
      },
      "source": [
        "##Python Operators"
      ]
    },
    {
      "cell_type": "code",
      "metadata": {
        "colab": {
          "base_uri": "https://localhost:8080/"
        },
        "id": "GA2EfwG7wzpe",
        "outputId": "27291495-123a-4587-8497-3b0529915a05"
      },
      "source": [
        "print(10+5)\n",
        "print(10-5)\n",
        "print(10/5)\n",
        "print(10*5)\n",
        "print(10%5)\n",
        "print(10//3)\n",
        "print(10**2)"
      ],
      "execution_count": 28,
      "outputs": [
        {
          "output_type": "stream",
          "name": "stdout",
          "text": [
            "15\n",
            "5\n",
            "2.0\n",
            "50\n",
            "0\n",
            "3\n",
            "100\n"
          ]
        }
      ]
    },
    {
      "cell_type": "markdown",
      "metadata": {
        "id": "xLY9v3ikyeO9"
      },
      "source": [
        "##Bitwise Operation"
      ]
    },
    {
      "cell_type": "code",
      "metadata": {
        "colab": {
          "base_uri": "https://localhost:8080/"
        },
        "id": "cqmYlXDQx8_g",
        "outputId": "c111d392-06ac-4992-b891-d99ce24e719d"
      },
      "source": [
        "a=60 #0011 1100\n",
        "b=13 # 0000 1100 \n",
        "\n",
        "print(a^b)\n",
        "print(~a)\n",
        "print(a<<2)\n",
        "print(a>>2) #0000 1111"
      ],
      "execution_count": 39,
      "outputs": [
        {
          "output_type": "stream",
          "name": "stdout",
          "text": [
            "49\n",
            "-61\n",
            "240\n",
            "15\n"
          ]
        }
      ]
    },
    {
      "cell_type": "markdown",
      "metadata": {
        "id": "HSH3A0gv00Sn"
      },
      "source": [
        "## Assignment Operators"
      ]
    },
    {
      "cell_type": "code",
      "metadata": {
        "colab": {
          "base_uri": "https://localhost:8080/"
        },
        "id": "iR6vbAB_0z0n",
        "outputId": "9921f203-644f-4df2-baeb-cbcf241a67a1"
      },
      "source": [
        "x=2\n",
        "x+=3 #Same as x =x+3\n",
        "\n",
        "print(x) \n",
        "\n",
        "x\n"
      ],
      "execution_count": 50,
      "outputs": [
        {
          "output_type": "stream",
          "name": "stdout",
          "text": [
            "5\n"
          ]
        },
        {
          "output_type": "execute_result",
          "data": {
            "text/plain": [
              "5"
            ]
          },
          "metadata": {},
          "execution_count": 50
        }
      ]
    },
    {
      "cell_type": "markdown",
      "metadata": {
        "id": "lx1z7_3D2W1Y"
      },
      "source": [
        "## Logical Operators"
      ]
    },
    {
      "cell_type": "code",
      "metadata": {
        "colab": {
          "base_uri": "https://localhost:8080/"
        },
        "id": "2nXKyA092caX",
        "outputId": "db7435a5-e5a7-41b1-c964-f4c8f2bb95d9"
      },
      "source": [
        "a=6\n",
        "b=7\n",
        "print( a>b and b==b)\n",
        "print( a>b or b==a)"
      ],
      "execution_count": 64,
      "outputs": [
        {
          "output_type": "stream",
          "name": "stdout",
          "text": [
            "False\n",
            "False\n"
          ]
        }
      ]
    },
    {
      "cell_type": "markdown",
      "metadata": {
        "id": "I6bH8YQa4Cyl"
      },
      "source": [
        "## Identity Operator"
      ]
    },
    {
      "cell_type": "code",
      "metadata": {
        "colab": {
          "base_uri": "https://localhost:8080/"
        },
        "id": "4xdkiokJ4LU2",
        "outputId": "cb61a6ce-7f32-4f85-e3c6-db1ab44f1a98"
      },
      "source": [
        "print(a is a)\n",
        "print(a is not b)\n",
        "print(a is not a)"
      ],
      "execution_count": 69,
      "outputs": [
        {
          "output_type": "stream",
          "name": "stdout",
          "text": [
            "True\n",
            "True\n",
            "False\n"
          ]
        }
      ]
    }
  ]
}