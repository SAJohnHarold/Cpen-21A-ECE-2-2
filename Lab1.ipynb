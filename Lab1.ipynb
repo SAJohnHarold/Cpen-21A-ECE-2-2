{
  "nbformat": 4,
  "nbformat_minor": 0,
  "metadata": {
    "colab": {
      "name": " Lab1.ipynb",
      "provenance": [],
      "authorship_tag": "ABX9TyNHXFW6/0dD4y1EEXOvgN8u",
      "include_colab_link": true
    },
    "kernelspec": {
      "name": "python3",
      "display_name": "Python 3"
    },
    "language_info": {
      "name": "python"
    }
  },
  "cells": [
    {
      "cell_type": "markdown",
      "metadata": {
        "id": "view-in-github",
        "colab_type": "text"
      },
      "source": [
        "<a href=\"https://colab.research.google.com/github/SAJohnHarold/Cpen-21A-ECE-2-2/blob/main/Lab1.ipynb\" target=\"_parent\"><img src=\"https://colab.research.google.com/assets/colab-badge.svg\" alt=\"Open In Colab\"/></a>"
      ]
    },
    {
      "cell_type": "markdown",
      "metadata": {
        "id": "woHfCw7Ub0Mm"
      },
      "source": [
        "#Laboratory 1"
      ]
    },
    {
      "cell_type": "code",
      "metadata": {
        "colab": {
          "base_uri": "https://localhost:8080/"
        },
        "id": "S4E1k3q-b4bu",
        "outputId": "81dde58d-2e4d-421d-ddd8-ddc9848fd169"
      },
      "source": [
        "print (\"Welcome to Python Programming\")"
      ],
      "execution_count": 1,
      "outputs": [
        {
          "output_type": "stream",
          "name": "stdout",
          "text": [
            "Welcome to Python Programming\n"
          ]
        }
      ]
    },
    {
      "cell_type": "code",
      "metadata": {
        "colab": {
          "base_uri": "https://localhost:8080/"
        },
        "id": "ZDbxKHj8cmW2",
        "outputId": "c813eef8-7239-49a7-ee40-90c0b7a0b3f6"
      },
      "source": [
        "name = \"John Harold P. San Antonio\"\n",
        "address = \"Brgy. Bernardo Pulido, GMA, Cavite\"\n",
        "age = \"20\"\n",
        "print(name)\n",
        "print(address)\n",
        "print(age)"
      ],
      "execution_count": 4,
      "outputs": [
        {
          "output_type": "stream",
          "name": "stdout",
          "text": [
            "John Harold P. San Antonio\n",
            "Brgy. Bernardo Pulido, GMA, Cavite\n",
            "20\n"
          ]
        }
      ]
    }
  ]
}