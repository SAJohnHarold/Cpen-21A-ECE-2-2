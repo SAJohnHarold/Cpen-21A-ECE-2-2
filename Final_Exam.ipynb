{
  "nbformat": 4,
  "nbformat_minor": 0,
  "metadata": {
    "colab": {
      "name": "Final Exam.ipynb",
      "provenance": [],
      "collapsed_sections": [],
      "authorship_tag": "ABX9TyNTPEq/90YxDEh80xrtQfUq",
      "include_colab_link": true
    },
    "kernelspec": {
      "name": "python3",
      "display_name": "Python 3"
    },
    "language_info": {
      "name": "python"
    }
  },
  "cells": [
    {
      "cell_type": "markdown",
      "metadata": {
        "id": "view-in-github",
        "colab_type": "text"
      },
      "source": [
        "<a href=\"https://colab.research.google.com/github/SAJohnHarold/Cpen-21A-ECE-2-2/blob/main/Final_Exam.ipynb\" target=\"_parent\"><img src=\"https://colab.research.google.com/assets/colab-badge.svg\" alt=\"Open In Colab\"/></a>"
      ]
    },
    {
      "cell_type": "markdown",
      "source": [
        "#Final Exam"
      ],
      "metadata": {
        "id": "d-wruEuwd2A3"
      }
    },
    {
      "cell_type": "markdown",
      "source": [
        "##PROBLEM STATEMENT 1"
      ],
      "metadata": {
        "id": "etZH5elid9ij"
      }
    },
    {
      "cell_type": "code",
      "source": [
        "sum=0\n",
        "for k in range(-6,4):\n",
        " print(k)\n",
        " if k<5:\n",
        "  sum=sum+k\n",
        "print(\"The summation of those numbers that are less than 5 is:\",sum)"
      ],
      "metadata": {
        "colab": {
          "base_uri": "https://localhost:8080/"
        },
        "id": "gpzjP3O2ZIiV",
        "outputId": "ed8c76bc-23c2-423a-ccb0-556fbfcf9d02"
      },
      "execution_count": 12,
      "outputs": [
        {
          "output_type": "stream",
          "name": "stdout",
          "text": [
            "-6\n",
            "-5\n",
            "-4\n",
            "-3\n",
            "-2\n",
            "-1\n",
            "0\n",
            "1\n",
            "2\n",
            "3\n",
            "The summation of those numbers that are less than 5 is: -15\n"
          ]
        }
      ]
    },
    {
      "cell_type": "markdown",
      "source": [
        "##PROBLEM STATEMENT 2"
      ],
      "metadata": {
        "id": "icAu-5XiZULG"
      }
    },
    {
      "cell_type": "code",
      "source": [
        "k = 1\n",
        "sum = 0\n",
        "print (\"Enter 5 numbers: \")\n",
        "while k <= 5:\n",
        " number = int(input (\"\"))\n",
        " if k==1 or k==5:\n",
        "  sum = sum + number\n",
        " k=k+1\n",
        "print(\"The sum of first and last number among 5 numbers is :\",sum)"
      ],
      "metadata": {
        "colab": {
          "base_uri": "https://localhost:8080/"
        },
        "id": "UOFexEX8ZVpm",
        "outputId": "eddf0520-ed42-45c6-8574-9d452f83f0b6"
      },
      "execution_count": 8,
      "outputs": [
        {
          "output_type": "stream",
          "name": "stdout",
          "text": [
            "Enter 5 numbers: \n",
            "5\n",
            "5\n",
            "5\n",
            "5\n",
            "5\n",
            "The sum of first and last number among 5 numbers is : 10\n"
          ]
        }
      ]
    },
    {
      "cell_type": "markdown",
      "source": [
        "##PROBLEM STATEMENT 3"
      ],
      "metadata": {
        "id": "igxrH-E-Zp04"
      }
    },
    {
      "cell_type": "code",
      "source": [
        "grade = int(input(\"Enter your grade :\"))\n",
        "\n",
        "if grade >=90:\n",
        " print(\"A\")\n",
        "elif grade >=80:\n",
        " print(\"B\")\n",
        "elif grade >=70:\n",
        " print(\"C\")\n",
        "elif grade >=60:\n",
        " print(\"D\")\n",
        "else:\n",
        " print(\"F\")"
      ],
      "metadata": {
        "colab": {
          "base_uri": "https://localhost:8080/"
        },
        "id": "TzJdFCxuZqRO",
        "outputId": "2fd795bd-3b05-429e-eb85-68bfa867abe7"
      },
      "execution_count": 3,
      "outputs": [
        {
          "output_type": "stream",
          "name": "stdout",
          "text": [
            "Enter your grade :95\n",
            "A\n"
          ]
        }
      ]
    }
  ]
}